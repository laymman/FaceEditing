{
 "cells": [
  {
   "cell_type": "code",
   "execution_count": 22,
   "metadata": {},
   "outputs": [],
   "source": [
    "from Tkinter import *\n",
    "from tkFileDialog import askopenfilename\n",
    "from PIL import ImageTk, Image\n",
    "import os"
   ]
  },
  {
   "cell_type": "code",
   "execution_count": 23,
   "metadata": {},
   "outputs": [
    {
     "name": "stdout",
     "output_type": "stream",
     "text": [
      "{'preprocess_image': 'preprocess_image.jpg', 'input_image': '/home/bob/GANS/python/input.jpg', 'feature': 'glass', 'reference_image': '/home/bob/GANS/python/input.jpg'}\n"
     ]
    }
   ],
   "source": [
    "root  = Tk() # user input window\n",
    "root.geometry(\"1000x600\")\n",
    "root.resizable(width=True, height=True)\n",
    "\n",
    "para = {}\n",
    "para[\"preprocess_image\"] = \"preprocess_image.jpg\"\n",
    "\n",
    "def openfn():\n",
    "    filename = askopenfilename(title='open')\n",
    "    return filename\n",
    "\n",
    "def browsefunc1():\n",
    "    path = openfn()\n",
    "    img = Image.open(path)\n",
    "    img = img.resize((400, 400), Image.ANTIALIAS)\n",
    "    img = ImageTk.PhotoImage(img)\n",
    "  \n",
    "    panel = Label(root, image = img)\n",
    "    panel.image = img\n",
    "    panel.place(x = 30, y = 50, width=400, height=400)\n",
    "    para[\"input_image\"] = path\n",
    "    \n",
    "def browsefunc2():\n",
    "    path = openfn()\n",
    "    img = Image.open(path)\n",
    "    img = img.resize((400, 400), Image.ANTIALIAS)\n",
    "    img = ImageTk.PhotoImage(img)\n",
    "  \n",
    "    panel = Label(root, image = img)\n",
    "    panel.image = img\n",
    "    panel.place(x = 570, y = 50, width=400, height=400)\n",
    "    para[\"reference_image\"] = path\n",
    "    \n",
    "def get_value(value):\n",
    "    para[\"feature\"] = value\n",
    "    print(para)\n",
    "    \n",
    "browsebutton1 = Button(root, text=\"Input Image\", command=browsefunc1)\n",
    "browsebutton1.place(x = 200, y = 10, width=80, height=30)\n",
    "\n",
    "browsebutton2 = Button(root, text=\"Reference Image\", command=browsefunc2)\n",
    "browsebutton2.place(x = 725, y = 10, width=110, height=30)\n",
    "\n",
    "choices = [ \"hair\",\"glass\",\"expression\"]\n",
    "dropvar = StringVar(root)\n",
    "dropvar.set(\"None\")\n",
    "popupMenu = OptionMenu(root, dropvar, *choices, command=get_value)\n",
    "Label(root, text=\"Choose a feature\").place(x = 450, y = 110, width=100, height=30)\n",
    "popupMenu.place(x = 450, y = 150, width=100, height=30)\n",
    "\n",
    "\n",
    "def exit():\n",
    "    root.destroy()\n",
    "    \n",
    "exit=Button(root, text='Submit',command=exit, activebackground='grey', activeforeground='#AB78F1', bg='#58F0AB', highlightcolor='red', padx='12px', pady='3px')\n",
    "exit.place(relx=0.46,rely=0.35)\n",
    "\n",
    "# button = Button(root, text=\"Submit\", command=func)\n",
    "# button.place(x = 450, y = 300, width=100, height=30)\n",
    "mainloop()"
   ]
  },
  {
   "cell_type": "code",
   "execution_count": 24,
   "metadata": {},
   "outputs": [
    {
     "data": {
      "text/plain": [
       "256"
      ]
     },
     "execution_count": 24,
     "metadata": {},
     "output_type": "execute_result"
    }
   ],
   "source": [
    "command = \"./preprocess \" + para[\"input_image\"] + \" \" + para[\"preprocess_image\"]\n",
    "os.system(command)"
   ]
  },
  {
   "cell_type": "code",
   "execution_count": null,
   "metadata": {
    "collapsed": true
   },
   "outputs": [],
   "source": []
  }
 ],
 "metadata": {
  "anaconda-cloud": {},
  "kernelspec": {
   "display_name": "Python 2",
   "language": "python",
   "name": "python2"
  },
  "language_info": {
   "codemirror_mode": {
    "name": "ipython",
    "version": 2
   },
   "file_extension": ".py",
   "mimetype": "text/x-python",
   "name": "python",
   "nbconvert_exporter": "python",
   "pygments_lexer": "ipython2",
   "version": "2.7.12"
  }
 },
 "nbformat": 4,
 "nbformat_minor": 1
}
